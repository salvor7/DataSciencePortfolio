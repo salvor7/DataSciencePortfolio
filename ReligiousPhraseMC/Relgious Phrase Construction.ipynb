{
 "cells": [
  {
   "cell_type": "markdown",
   "metadata": {},
   "source": [
    "# Stupid Art Project 2017 - Random Holy Text\n",
    "To fit the stupid art theme \"Religion\" and my current focus on machine learning, I'm going to generate some random "
   ]
  },
  {
   "cell_type": "markdown",
   "metadata": {},
   "source": [
    "The code below was picked up from this site:\n",
    "http://agiliq.com/blog/2009/06/generating-pseudo-random-text-with-markov-chains-u/\n",
    "It'll be my first attempt at random holy text generation."
   ]
  },
  {
   "cell_type": "code",
   "execution_count": 1,
   "metadata": {
    "collapsed": false
   },
   "outputs": [],
   "source": [
    "import random\n",
    "\n",
    "\n",
    "class Markov(object):\n",
    "    def __init__(self, open_file):\n",
    "        self.cache = {}\n",
    "        self.open_file = open_file\n",
    "        self.words = self.file_to_words()\n",
    "        self.word_size = len(self.words)\n",
    "        self.database()\n",
    "\n",
    "    def file_to_words(self):\n",
    "        self.open_file.seek(0)\n",
    "        data = self.open_file.read()\n",
    "        words = data.split()\n",
    "        return words\n",
    "\n",
    "    def triples(self):\n",
    "        \"\"\" Generates triples from the given data string. So if our string were\n",
    "                \"What a lovely day\", we'd generate (What, a, lovely) and then\n",
    "                (a, lovely, day).\n",
    "        \"\"\"\n",
    "\n",
    "        if len(self.words) < 3:\n",
    "            return\n",
    "\n",
    "        for i in range(len(self.words) - 2):\n",
    "            yield (self.words[i], self.words[i + 1], self.words[i + 2])\n",
    "\n",
    "    def database(self):\n",
    "        for w1, w2, w3 in self.triples():\n",
    "            key = (w1, w2)\n",
    "            if key in self.cache:\n",
    "                self.cache[key].append(w3)\n",
    "            else:\n",
    "                self.cache[key] = [w3]\n",
    "\n",
    "    def generate_markov_text(self, size=25):\n",
    "        seed = random.randint(0, self.word_size - 3)\n",
    "        seed_word, next_word = self.words[seed], self.words[seed + 1]\n",
    "        w1, w2 = seed_word, next_word\n",
    "        gen_words = []\n",
    "        for i in range(size):\n",
    "            gen_words.append(w1)\n",
    "            w1, w2 = w2, random.choice(self.cache[(w1, w2)])\n",
    "        gen_words.append(w2)\n",
    "\n",
    "        return ' '.join(gen_words)"
   ]
  },
  {
   "cell_type": "markdown",
   "metadata": {
    "collapsed": true
   },
   "source": [
    "I'll use the old testament first. I got the text from project Gutenberg, and have removed the Gutenberg pre and postamble. I suspect the text will be too big to run efficiently in the code above, as it is just straight python. We shall see."
   ]
  },
  {
   "cell_type": "code",
   "execution_count": 2,
   "metadata": {
    "collapsed": false
   },
   "outputs": [],
   "source": [
    "with open('sources/old testament.txt') as bible:\n",
    "    bible_gen = Markov(bible)"
   ]
  },
  {
   "cell_type": "code",
   "execution_count": 3,
   "metadata": {
    "collapsed": false
   },
   "outputs": [
    {
     "data": {
      "text/plain": [
       "'not seeking mine own nation at Jerusalem, Let the floods compassed me about: all ye heathen, and disperse them through the mountains shall they come say'"
      ]
     },
     "execution_count": 3,
     "metadata": {},
     "output_type": "execute_result"
    }
   ],
   "source": [
    "bible_gen.generate_markov_text()"
   ]
  },
  {
   "cell_type": "code",
   "execution_count": 4,
   "metadata": {
    "collapsed": false
   },
   "outputs": [
    {
     "name": "stdout",
     "output_type": "stream",
     "text": [
      "10000 loops, best of 3: 41.8 µs per loop\n"
     ]
    }
   ],
   "source": [
    "%%timeit\n",
    "bible_gen.generate_markov_text()"
   ]
  },
  {
   "cell_type": "markdown",
   "metadata": {},
   "source": [
    "It works, and it is fast. But the punctuation and the passage numbering are not the best. I'll try post processing the responses.\n",
    "\n",
    "Lets first treat the passage numbers appearing mid passage, things like '7:12'. "
   ]
  },
  {
   "cell_type": "code",
   "execution_count": 5,
   "metadata": {
    "collapsed": true
   },
   "outputs": [],
   "source": [
    "import re"
   ]
  },
  {
   "cell_type": "markdown",
   "metadata": {},
   "source": [
    "'7:12' appearing at the beginning of a passage is desirable actually, so I'd liek to keep those, and possibly force those later. It is the other passage numbers appearing in the middle or end of passages that we want to avoid. Those patterns are guaranteed to have a space in front of them, ie ' 7:12', so I can regex to find and replace using that pattern."
   ]
  },
  {
   "cell_type": "code",
   "execution_count": 6,
   "metadata": {
    "collapsed": false
   },
   "outputs": [],
   "source": [
    "passage_num_pattern = re.compile(r' \\d+:\\d+')"
   ]
  },
  {
   "cell_type": "code",
   "execution_count": 7,
   "metadata": {
    "collapsed": false
   },
   "outputs": [
    {
     "name": "stdout",
     "output_type": "stream",
     "text": [
      "whatsoever is in thine hand with thy servant. 11:12 Notwithstanding in this place. 16:3 For thus saith the LORD, that he cannot pass; 14:6 Turn thy\n",
      "whatsoever is in thine hand with thy servant. Notwithstanding in this place. For thus saith the LORD, that he cannot pass; Turn thy\n",
      "and Haran begat Gazez. 2:47 And the sons of Ishmael, the ruler rise up before the vail of the Hamulites. 26:22 These are the sons Heth,\n",
      "and Haran begat Gazez. And the sons of Ishmael, the ruler rise up before the vail of the Hamulites. These are the sons Heth,\n",
      "even his enemies from before thy God, hath anointed thee king over Israel. 15:27 And Baasha the son of his distress did he eat thereof. But\n",
      "even his enemies from before thy God, hath anointed thee king over Israel. And Baasha the son of his distress did he eat thereof. But\n"
     ]
    }
   ],
   "source": [
    "for _ in range(3):\n",
    "    passage = bible_gen.generate_markov_text()\n",
    "    print(passage)\n",
    "    passage = passage_num_pattern.sub('', passage)\n",
    "    print(passage)\n",
    "    "
   ]
  },
  {
   "cell_type": "markdown",
   "metadata": {},
   "source": [
    "But I want to create random passages, so they need to start with a passage number, and contain a few \"complete\" sentences, ie they end in a period. I think I need to alter the generating method, and I think the alterations will be particular to the old testament. So I'll extend the Markov class with a generating method specialy for this text of the old testament. "
   ]
  },
  {
   "cell_type": "code",
   "execution_count": 8,
   "metadata": {
    "collapsed": false
   },
   "outputs": [],
   "source": [
    "class OldTestaPassagesMarkov(Markov):\n",
    "    passage_num_pattern = re.compile(r'\\d+:\\d+')\n",
    "    \n",
    "    def generate_markov_text(self, seed_word='', min_words=25):\n",
    "        \n",
    "        # Process a user given seed_word\n",
    "        seed_word_locations = [idx for idx, word in enumerate(self.words) if word.lower() == seed_word.lower()]\n",
    "            \n",
    "        if seed_word_locations:\n",
    "            seed = random.choice(seed_word_locations)\n",
    "        else:\n",
    "            print(seed_word + ' is not in Old Testament')\n",
    "            seed = random.randint(0, self.word_size - 3)\n",
    "            \n",
    "        w1, w2 = self.words[seed], self.words[seed + 1]\n",
    "        gen_words = [w1, w2]\n",
    "        # go until we have enough words and end in a period\n",
    "        while w2[-1] != '.' or len(gen_words) < min_words:\n",
    "            w1, w2 = w2, random.choice(self.cache[(w1, w2)])\n",
    "            if passage_num_pattern.findall(w2):\n",
    "                # Avoid adding passage numbers to the middle of the passage.\n",
    "                # Also end a sentence when a passage number would have gone in.\n",
    "                new_w1 = w1.replace(':', '.').replace(';', '.')\n",
    "                gen_words[-1] = new_w1\n",
    "            else:                \n",
    "                gen_words.append(w2)\n",
    "\n",
    "        return ' '.join(gen_words)"
   ]
  },
  {
   "cell_type": "code",
   "execution_count": 9,
   "metadata": {
    "collapsed": true
   },
   "outputs": [],
   "source": [
    "with open('sources/old testament.txt') as bible:\n",
    "    bible_gen = OldTestaPassagesMarkov(bible)"
   ]
  },
  {
   "cell_type": "code",
   "execution_count": 10,
   "metadata": {
    "collapsed": false
   },
   "outputs": [
    {
     "data": {
      "text/plain": [
       "'12:13 The king of Assyria to the house of the covenant which I have heard the words which were afar off, he sendeth forth his hand against the king.'"
      ]
     },
     "execution_count": 10,
     "metadata": {},
     "output_type": "execute_result"
    }
   ],
   "source": [
    "bible_gen.generate_markov_text('12:13')"
   ]
  }
 ],
 "metadata": {
  "anaconda-cloud": {},
  "kernelspec": {
   "display_name": "Python [conda root]",
   "language": "python",
   "name": "conda-root-py"
  },
  "language_info": {
   "codemirror_mode": {
    "name": "ipython",
    "version": 3
   },
   "file_extension": ".py",
   "mimetype": "text/x-python",
   "name": "python",
   "nbconvert_exporter": "python",
   "pygments_lexer": "ipython3",
   "version": "3.5.2"
  }
 },
 "nbformat": 4,
 "nbformat_minor": 1
}
