{
 "cells": [
  {
   "cell_type": "markdown",
   "metadata": {},
   "source": [
    "# Stupid Art Project 2017 - Random Holy Text\n",
    "To fit the stupid art theme \"Religion\" and my current focus on machine learning, I'm going to generate some random "
   ]
  },
  {
   "cell_type": "markdown",
   "metadata": {},
   "source": [
    "The code below was picked up from this site:\n",
    "http://agiliq.com/blog/2009/06/generating-pseudo-random-text-with-markov-chains-u/\n",
    "It'll be my first attempt at random holy text generation."
   ]
  },
  {
   "cell_type": "code",
   "execution_count": 1,
   "metadata": {
    "collapsed": false
   },
   "outputs": [],
   "source": [
    "import random\n",
    "\n",
    "\n",
    "class Markov(object):\n",
    "    def __init__(self, open_file):\n",
    "        self.cache = {}\n",
    "        self.open_file = open_file\n",
    "        self.words = self.file_to_words()\n",
    "        self.word_size = len(self.words)\n",
    "        self.database()\n",
    "\n",
    "    def file_to_words(self):\n",
    "        self.open_file.seek(0)\n",
    "        data = self.open_file.read()\n",
    "        words = data.split()\n",
    "        return words\n",
    "\n",
    "    def triples(self):\n",
    "        \"\"\" Generates triples from the given data string. So if our string were\n",
    "                \"What a lovely day\", we'd generate (What, a, lovely) and then\n",
    "                (a, lovely, day).\n",
    "        \"\"\"\n",
    "\n",
    "        if len(self.words) < 3:\n",
    "            return\n",
    "\n",
    "        for i in range(len(self.words) - 2):\n",
    "            yield (self.words[i], self.words[i + 1], self.words[i + 2])\n",
    "\n",
    "    def database(self):\n",
    "        for w1, w2, w3 in self.triples():\n",
    "            key = (w1, w2)\n",
    "            if key in self.cache:\n",
    "                self.cache[key].append(w3)\n",
    "            else:\n",
    "                self.cache[key] = [w3]\n",
    "\n",
    "    def generate_markov_text(self, size=25):\n",
    "        seed = random.randint(0, self.word_size - 3)\n",
    "        seed_word, next_word = self.words[seed], self.words[seed + 1]\n",
    "        w1, w2 = seed_word, next_word\n",
    "        gen_words = []\n",
    "        for i in range(size):\n",
    "            gen_words.append(w1)\n",
    "            w1, w2 = w2, random.choice(self.cache[(w1, w2)])\n",
    "        gen_words.append(w2)\n",
    "\n",
    "        return ' '.join(gen_words)"
   ]
  },
  {
   "cell_type": "markdown",
   "metadata": {
    "collapsed": true
   },
   "source": [
    "I'll use the old testament first. I got the text from project Gutenberg, and have removed the Gutenberg pre and postamble. I suspect the text will be too big to run efficiently in the code above, as it is just straight python. We shall see."
   ]
  },
  {
   "cell_type": "code",
   "execution_count": 2,
   "metadata": {
    "collapsed": false
   },
   "outputs": [],
   "source": [
    "with open('sources/old testament.txt') as bible:\n",
    "    bible_gen = Markov(bible)"
   ]
  },
  {
   "cell_type": "code",
   "execution_count": 3,
   "metadata": {
    "collapsed": false
   },
   "outputs": [
    {
     "data": {
      "text/plain": [
       "\"that they shall be spoken for to dwell on all them that obey him; 5:10 Called of God is? 41:39 And Pharaoh called Joseph's name and\""
      ]
     },
     "execution_count": 3,
     "metadata": {},
     "output_type": "execute_result"
    }
   ],
   "source": [
    "bible_gen.generate_markov_text()"
   ]
  },
  {
   "cell_type": "code",
   "execution_count": 4,
   "metadata": {
    "collapsed": false
   },
   "outputs": [
    {
     "name": "stdout",
     "output_type": "stream",
     "text": [
      "10000 loops, best of 3: 40.3 µs per loop\n"
     ]
    }
   ],
   "source": [
    "%%timeit\n",
    "bible_gen.generate_markov_text()"
   ]
  },
  {
   "cell_type": "markdown",
   "metadata": {},
   "source": [
    "It works, and it is fast. But the punctuation and the passage numbering are not the best. I'll try post processing the responses.\n",
    "\n",
    "Lets first treat the passage numbers appearing mid passage, things like '7:12'. "
   ]
  },
  {
   "cell_type": "code",
   "execution_count": 5,
   "metadata": {
    "collapsed": true
   },
   "outputs": [],
   "source": [
    "import re"
   ]
  },
  {
   "cell_type": "markdown",
   "metadata": {},
   "source": [
    "'7:12' appearing at the beginning of a passage is desirable actually, so I'd liek to keep those, and possibly force those later. It is the other passage numbers appearing in the middle or end of passages that we want to avoid. Those patterns are guaranteed to have a space in front of them, ie ' 7:12', so I can regex to find and replace using that pattern."
   ]
  },
  {
   "cell_type": "code",
   "execution_count": 6,
   "metadata": {
    "collapsed": false
   },
   "outputs": [],
   "source": [
    "passage_num_pattern = re.compile(r' \\d+:\\d+')"
   ]
  },
  {
   "cell_type": "code",
   "execution_count": 7,
   "metadata": {
    "collapsed": false
   },
   "outputs": [
    {
     "name": "stdout",
     "output_type": "stream",
     "text": [
      "hither: for whereas we have looked on me, O Lord, which gave power unto his father, and in all the counsel of God. But while say\n",
      "hither: for whereas we have looked on me, O Lord, which gave power unto his father, and in all the counsel of God. But while say\n",
      "lodge this night. 4:4 Then the LORD spake against God, and limited the Holy Ghost and with them by lot. 13:20 And Bethpeor, and Ashdothpisgah, Bethjeshimoth,\n",
      "lodge this night. Then the LORD spake against God, and limited the Holy Ghost and with them by lot. And Bethpeor, and Ashdothpisgah, Bethjeshimoth,\n",
      "is good to eat thereof, and the herdmen of Lot's cattle: and the wine is red; it is evident unto you circumcision; (not because it said,\n",
      "is good to eat thereof, and the herdmen of Lot's cattle: and the wine is red; it is evident unto you circumcision; (not because it said,\n"
     ]
    }
   ],
   "source": [
    "for _ in range(3):\n",
    "    passage = bible_gen.generate_markov_text()\n",
    "    print(passage)\n",
    "    passage = passage_num_pattern.sub('', passage)\n",
    "    print(passage)\n",
    "    "
   ]
  },
  {
   "cell_type": "markdown",
   "metadata": {},
   "source": [
    "But I want to create random passages, so they need to start with a passage number, and contain a few \"complete\" sentences, ie they end in a period. I think I need to alter the generating method, and I think the alterations will be particular to the old testament. So I'll extend the Markov class with a generating method specialy for this text of the old testament. "
   ]
  },
  {
   "cell_type": "code",
   "execution_count": 23,
   "metadata": {
    "collapsed": false
   },
   "outputs": [],
   "source": [
    "class OldTestaPassagesMarkov(Markov):\n",
    "    passage_num_pattern = re.compile(r'\\d+:\\d+')\n",
    "    \n",
    "    def generate_markov_text(self, seed_word='', min_words=25):\n",
    "        \n",
    "        # Process a user given seed_word\n",
    "        seed_word_locations = [idx for idx, word in enumerate(self.words) if word.lower() == seed_word.lower()]\n",
    "            \n",
    "        if seed_word_locations:\n",
    "            seed = random.choice(seed_word_locations)\n",
    "        else:\n",
    "            print(seed_word + ' is not in Old Testament')\n",
    "            seed = random.randint(0, self.word_size - 3)\n",
    "            \n",
    "        w1, w2 = self.words[seed], self.words[seed + 1]\n",
    "        gen_words = [w1, w2]\n",
    "        # go until we have enough words and end in a period\n",
    "        while w2[-1] != '.' or len(gen_words) < min_words:\n",
    "            w1, w2 = w2, random.choice(self.cache[(w1, w2)])\n",
    "            if passage_num_pattern.findall(w2):\n",
    "                # Avoid adding passage numbers to the middle of the passage.\n",
    "                # Also end a sentence when a passage number would have gone in.\n",
    "                new_w1 = w1.replace(':', '.').replace(';', '.')\n",
    "                gen_words[-1] = new_w1\n",
    "            else:                \n",
    "                gen_words.append(w2)\n",
    "\n",
    "        return ' '.join(gen_words)"
   ]
  },
  {
   "cell_type": "code",
   "execution_count": 24,
   "metadata": {
    "collapsed": true
   },
   "outputs": [],
   "source": [
    "with open('sources/old testament.txt') as bible:\n",
    "    bible_gen = OldTestaPassagesMarkov(bible)"
   ]
  },
  {
   "cell_type": "code",
   "execution_count": 25,
   "metadata": {
    "collapsed": false
   },
   "outputs": [
    {
     "data": {
      "text/plain": [
       "'12:13 Jeremiah the prophet the son of Jotham, Ahaz, and Hezekiah, kings of the hand of our God shall bring the firstfruits of Achaia, and that also King of Israel, saying, This is also a byword among the herdmen of Gerar sent, and they killed the passover, and the glory, and power, and with thee and him that bringeth forth her children.'"
      ]
     },
     "execution_count": 25,
     "metadata": {},
     "output_type": "execute_result"
    }
   ],
   "source": [
    "bible_gen.generate_markov_text('12:13', min_words=10)"
   ]
  },
  {
   "cell_type": "code",
   "execution_count": 22,
   "metadata": {
    "collapsed": false
   },
   "outputs": [
    {
     "data": {
      "text/plain": [
       "84"
      ]
     },
     "execution_count": 22,
     "metadata": {},
     "output_type": "execute_result"
    }
   ],
   "source": [
    "len('So king Solomon passed all the cities that are entering to go into his own language.')"
   ]
  },
  {
   "cell_type": "markdown",
   "metadata": {},
   "source": [
    "## Randomnly generate the passage chapter and verse numbers. \n",
    "The chapter:verse (4:34) pairs are good places to start the passages, as they are always starts of sentences, so I'll always seed the generation process with one of those pairs. But, some chapter and verse combos do not exist in the text, so I can't just randomly generate the pairs. Though, I can just sample directly from the set of pairs from the words list. "
   ]
  },
  {
   "cell_type": "code",
   "execution_count": 26,
   "metadata": {
    "collapsed": false
   },
   "outputs": [
    {
     "data": {
      "text/plain": [
       "['54:5',\n",
       " '18:43',\n",
       " '143:3',\n",
       " '21:6',\n",
       " '14:25',\n",
       " '68:32',\n",
       " '78:2',\n",
       " '82:7',\n",
       " '88:10',\n",
       " '143:9']"
      ]
     },
     "execution_count": 26,
     "metadata": {},
     "output_type": "execute_result"
    }
   ],
   "source": [
    "passage_numbers = set()\n",
    "\n",
    "for word in bible_gen.words:\n",
    "    found_pattern = bible_gen.passage_num_pattern.findall(word)\n",
    "    if found_pattern:\n",
    "        passage_numbers.add(found_pattern[0])\n",
    "list(passage_numbers)[:10]"
   ]
  },
  {
   "cell_type": "markdown",
   "metadata": {},
   "source": [
    "## Twitter bot experiment\n",
    "Following this website, I setup a twitter account (HolyStupidArt) and a twitter app attached to that account.\n",
    "http://www.dototot.com/how-to-write-a-twitter-bot-with-python-and-tweepy/\n",
    "\n",
    "I've also setup my api accesses, and have sent my first message, the one about king Soloman above. Now, I'm going to experiment with the twitter interface to see if I can make the both respond to direct messages. "
   ]
  },
  {
   "cell_type": "code",
   "execution_count": null,
   "metadata": {
    "collapsed": true
   },
   "outputs": [],
   "source": [
    "import tweepy\n",
    "\n",
    "from twitter_secrets import api_tokens as at\n",
    "\n",
    "\n",
    "# enter the corresponding information from your Twitter application:\n",
    "auth = tweepy.OAuthHandler(at['CONSUMER_KEY'], at['CONSUMER_SECRET'])\n",
    "auth.set_access_token(at['ACCESS_KEY'], at['ACCESS_SECRET'])\n",
    "api = tweepy.API(auth)"
   ]
  },
  {
   "cell_type": "code",
   "execution_count": null,
   "metadata": {
    "collapsed": false
   },
   "outputs": [],
   "source": [
    "api.direct_messages()"
   ]
  },
  {
   "cell_type": "code",
   "execution_count": null,
   "metadata": {
    "collapsed": true
   },
   "outputs": [],
   "source": []
  }
 ],
 "metadata": {
  "anaconda-cloud": {},
  "kernelspec": {
   "display_name": "Python [conda root]",
   "language": "python",
   "name": "conda-root-py"
  },
  "language_info": {
   "codemirror_mode": {
    "name": "ipython",
    "version": 3
   },
   "file_extension": ".py",
   "mimetype": "text/x-python",
   "name": "python",
   "nbconvert_exporter": "python",
   "pygments_lexer": "ipython3",
   "version": "3.5.2"
  }
 },
 "nbformat": 4,
 "nbformat_minor": 1
}
