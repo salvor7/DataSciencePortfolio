{
 "cells": [
  {
   "cell_type": "markdown",
   "metadata": {},
   "source": [
    "# Stupid Art Project 2017 - Random Holy Text\n",
    "To fit the stupid art theme \"Religion\" and my current focus on machine learning, I'm going to generate some random "
   ]
  },
  {
   "cell_type": "markdown",
   "metadata": {},
   "source": [
    "The code below was picked up from this site:\n",
    "http://agiliq.com/blog/2009/06/generating-pseudo-random-text-with-markov-chains-u/\n",
    "It'll be my first attempt at random holy text generation."
   ]
  },
  {
   "cell_type": "code",
   "execution_count": 1,
   "metadata": {
    "collapsed": false
   },
   "outputs": [],
   "source": [
    "import random\n",
    "\n",
    "\n",
    "class Markov(object):\n",
    "    def __init__(self, open_file):\n",
    "        self.cache = {}\n",
    "        self.open_file = open_file\n",
    "        self.words = self.file_to_words()\n",
    "        self.word_size = len(self.words)\n",
    "        self.database()\n",
    "\n",
    "    def file_to_words(self):\n",
    "        self.open_file.seek(0)\n",
    "        data = self.open_file.read()\n",
    "        words = data.split()\n",
    "        return words\n",
    "\n",
    "    def triples(self):\n",
    "        \"\"\" Generates triples from the given data string. So if our string were\n",
    "                \"What a lovely day\", we'd generate (What, a, lovely) and then\n",
    "                (a, lovely, day).\n",
    "        \"\"\"\n",
    "\n",
    "        if len(self.words) < 3:\n",
    "            return\n",
    "\n",
    "        for i in range(len(self.words) - 2):\n",
    "            yield (self.words[i], self.words[i + 1], self.words[i + 2])\n",
    "\n",
    "    def database(self):\n",
    "        for w1, w2, w3 in self.triples():\n",
    "            key = (w1, w2)\n",
    "            if key in self.cache:\n",
    "                self.cache[key].append(w3)\n",
    "            else:\n",
    "                self.cache[key] = [w3]\n",
    "\n",
    "    def generate_markov_text(self, size=25):\n",
    "        seed = random.randint(0, self.word_size - 3)\n",
    "        seed_word, next_word = self.words[seed], self.words[seed + 1]\n",
    "        w1, w2 = seed_word, next_word\n",
    "        gen_words = []\n",
    "        for i in range(size):\n",
    "            gen_words.append(w1)\n",
    "            w1, w2 = w2, random.choice(self.cache[(w1, w2)])\n",
    "        gen_words.append(w2)\n",
    "\n",
    "        return ' '.join(gen_words)"
   ]
  },
  {
   "cell_type": "markdown",
   "metadata": {
    "collapsed": true
   },
   "source": [
    "I'll use the old testament first. I got the text from project Gutenberg, and have removed the Gutenberg pre and postamble. I suspect the text will be too big to run efficiently in the code above, as it is just straight python. We shall see."
   ]
  },
  {
   "cell_type": "code",
   "execution_count": 2,
   "metadata": {
    "collapsed": false
   },
   "outputs": [],
   "source": [
    "with open('sources/old testament.txt') as bible:\n",
    "    bible_gen = Markov(bible)"
   ]
  },
  {
   "cell_type": "code",
   "execution_count": 3,
   "metadata": {
    "collapsed": false
   },
   "outputs": [
    {
     "data": {
      "text/plain": [
       "'he will take you twelve men out of the first year without blemish: 29:24 Their meat offering unto one of another. 11:10 And Joshua rose in'"
      ]
     },
     "execution_count": 3,
     "metadata": {},
     "output_type": "execute_result"
    }
   ],
   "source": [
    "bible_gen.generate_markov_text()"
   ]
  },
  {
   "cell_type": "code",
   "execution_count": 4,
   "metadata": {
    "collapsed": false
   },
   "outputs": [
    {
     "name": "stdout",
     "output_type": "stream",
     "text": [
      "10000 loops, best of 3: 39.6 µs per loop\n"
     ]
    }
   ],
   "source": [
    "%%timeit\n",
    "bible_gen.generate_markov_text()"
   ]
  },
  {
   "cell_type": "markdown",
   "metadata": {},
   "source": [
    "It works, and it is fast. But the punctuation and the passage numbering are not the best. I'll try post processing the responses.\n",
    "\n",
    "Lets first treat the passage numbers appearing mid passage, things like '7:12'. "
   ]
  },
  {
   "cell_type": "code",
   "execution_count": 5,
   "metadata": {
    "collapsed": true
   },
   "outputs": [],
   "source": [
    "import re"
   ]
  },
  {
   "cell_type": "markdown",
   "metadata": {},
   "source": [
    "'7:12' appearing at the beginning of a passage is desirable actually, so I'd liek to keep those, and possibly force those later. It is the other passage numbers appearing in the middle or end of passages that we want to avoid. Those patterns are guaranteed to have a space in front of them, ie ' 7:12', so I can regex to find and replace using that pattern."
   ]
  },
  {
   "cell_type": "code",
   "execution_count": 6,
   "metadata": {
    "collapsed": false
   },
   "outputs": [],
   "source": [
    "passage_num_pattern = re.compile(r' \\d+:\\d+')"
   ]
  },
  {
   "cell_type": "code",
   "execution_count": 7,
   "metadata": {
    "collapsed": false
   },
   "outputs": [
    {
     "name": "stdout",
     "output_type": "stream",
     "text": [
      "very deed, as the Father hath sent me to hear as the LORD said, I know thy abode, and laid him in Jerusalem; and the did,\n",
      "very deed, as the Father hath sent me to hear as the LORD said, I know thy abode, and laid him in Jerusalem; and the did,\n",
      "polluted with blood. 106:39 Thus were the sons of Ham, and Japheth. 1:5 The sun and the fire for a possession among us: but ye, ye\n",
      "polluted with blood. Thus were the sons of Ham, and Japheth. The sun and the fire for a possession among us: but ye, ye\n",
      "her, Woman, why weepest thou? whom seekest thou? or, Why talkest thou with her? 4:28 The woman saith unto them, saying, Go and sit down, my\n",
      "her, Woman, why weepest thou? whom seekest thou? or, Why talkest thou with her? The woman saith unto them, saying, Go and sit down, my\n"
     ]
    }
   ],
   "source": [
    "for _ in range(3):\n",
    "    passage = bible_gen.generate_markov_text()\n",
    "    print(passage)\n",
    "    passage = passage_num_pattern.sub('', passage)\n",
    "    print(passage)\n",
    "    "
   ]
  },
  {
   "cell_type": "markdown",
   "metadata": {},
   "source": [
    "But I want to create random passages, so they need to start with a passage number, and contain a few \"complete\" sentences, ie they end in a period. I think I need to alter the generating method, and I think the alterations will be particular to the old testament. So I'll extend the Markov class with a generating method specialy for this text of the old testament. "
   ]
  },
  {
   "cell_type": "code",
   "execution_count": 8,
   "metadata": {
    "collapsed": false
   },
   "outputs": [],
   "source": [
    "class OldTestaPassagesMarkov(Markov):\n",
    "    passage_num_pattern = re.compile(r'\\d+:\\d+')\n",
    "    \n",
    "    def generate_markov_text(self, seed_word='', min_words=25):\n",
    "        \n",
    "        # Process a user given seed_word\n",
    "        seed_word_locations = [idx for idx, word in enumerate(self.words) if word.lower() == seed_word.lower()]\n",
    "            \n",
    "        if seed_word_locations:\n",
    "            seed = random.choice(seed_word_locations)\n",
    "        else:\n",
    "            print(seed_word + ' is not in Old Testament')\n",
    "            seed = random.randint(0, self.word_size - 3)\n",
    "            \n",
    "        w1, w2 = self.words[seed], self.words[seed + 1]\n",
    "        gen_words = [w1, w2]\n",
    "        # go until we have enough words and end in a period\n",
    "        while w2[-1] != '.' or len(gen_words) < min_words:\n",
    "            w1, w2 = w2, random.choice(self.cache[(w1, w2)])\n",
    "            if passage_num_pattern.findall(w2):\n",
    "                # Avoid adding passage numbers to the middle of the passage.\n",
    "                # Also end a sentence when a passage number would have gone in.\n",
    "                new_w1 = w1.replace(':', '.').replace(';', '.')\n",
    "                gen_words[-1] = new_w1\n",
    "            else:                \n",
    "                gen_words.append(w2)\n",
    "\n",
    "        return ' '.join(gen_words)"
   ]
  },
  {
   "cell_type": "code",
   "execution_count": 9,
   "metadata": {
    "collapsed": true
   },
   "outputs": [],
   "source": [
    "with open('sources/old testament.txt') as bible:\n",
    "    bible_gen = OldTestaPassagesMarkov(bible)"
   ]
  },
  {
   "cell_type": "code",
   "execution_count": 10,
   "metadata": {
    "collapsed": false
   },
   "outputs": [
    {
     "data": {
      "text/plain": [
       "'12:13 Howbeit there is no death. 13:1 A wise man hearken unto their idols, nor make any cuttings in your land with the wicked? 18:24 Peradventure there shall no more children, tossed to and fro throughout the houses of joy with her, which hath power on her head, and the cities which he made them rejoice that seek their life: and he said unto his daughter came out of the tribes of Israel, even the dregs of the asses, that I and this writing was signed, he went out the work which ye have made them rejoice that seek his soul.'"
      ]
     },
     "execution_count": 10,
     "metadata": {},
     "output_type": "execute_result"
    }
   ],
   "source": [
    "bible_gen.generate_markov_text('12:13', min_words=10)"
   ]
  },
  {
   "cell_type": "code",
   "execution_count": 11,
   "metadata": {
    "collapsed": false
   },
   "outputs": [
    {
     "data": {
      "text/plain": [
       "84"
      ]
     },
     "execution_count": 11,
     "metadata": {},
     "output_type": "execute_result"
    }
   ],
   "source": [
    "len('So king Solomon passed all the cities that are entering to go into his own language.')"
   ]
  },
  {
   "cell_type": "markdown",
   "metadata": {},
   "source": [
    "## Randomnly generate the passage chapter and verse numbers. \n",
    "The chapter:verse (4:34) pairs are good places to start the passages, as they are always starts of sentences, so I'll always seed the generation process with one of those pairs. But, some chapter and verse combos do not exist in the text, so I can't just randomly generate the pairs. Though, I can just sample directly from the set of pairs from the words list. "
   ]
  },
  {
   "cell_type": "code",
   "execution_count": 12,
   "metadata": {
    "collapsed": false
   },
   "outputs": [
    {
     "data": {
      "text/plain": [
       "['30:16',\n",
       " '38:8',\n",
       " '43:25',\n",
       " '6:32',\n",
       " '34:19',\n",
       " '40:19',\n",
       " '14:24',\n",
       " '29:38',\n",
       " '23:8',\n",
       " '50:33']"
      ]
     },
     "execution_count": 12,
     "metadata": {},
     "output_type": "execute_result"
    }
   ],
   "source": [
    "passage_numbers = set()\n",
    "\n",
    "for word in bible_gen.words:\n",
    "    found_pattern = bible_gen.passage_num_pattern.findall(word)\n",
    "    if found_pattern:\n",
    "        passage_numbers.add(found_pattern[0])\n",
    "list(passage_numbers)[:10]"
   ]
  },
  {
   "cell_type": "markdown",
   "metadata": {},
   "source": [
    "## Twitter bot experiment\n",
    "Following this website, I setup a twitter account (HolyStupidArt) and a twitter app attached to that account.\n",
    "http://www.dototot.com/how-to-write-a-twitter-bot-with-python-and-tweepy/\n",
    "\n",
    "I've also setup my api accesses, and have sent my first message, the one about king Soloman above. Now, I'm going to experiment with the twitter interface to see if I can make the both respond to direct messages. "
   ]
  },
  {
   "cell_type": "code",
   "execution_count": 92,
   "metadata": {
    "collapsed": true
   },
   "outputs": [],
   "source": [
    "import tweepy\n",
    "\n",
    "from twitter_secrets import api_tokens as at\n",
    "\n",
    "\n",
    "# enter the corresponding information from your Twitter application:\n",
    "auth = tweepy.OAuthHandler(at['CONSUMER_KEY'], at['CONSUMER_SECRET'])\n",
    "auth.set_access_token(at['ACCESS_KEY'], at['ACCESS_SECRET'])\n",
    "api = tweepy.API(auth)"
   ]
  },
  {
   "cell_type": "code",
   "execution_count": 93,
   "metadata": {
    "collapsed": false
   },
   "outputs": [
    {
     "data": {
      "text/plain": [
       "Status(in_reply_to_user_id_str='159166590', is_quote_status=False, favorite_count=0, author=User(friends_count=1, description='', profile_background_image_url=None, translator_type='none', contributors_enabled=False, profile_image_url_https='https://abs.twimg.com/sticky/default_profile_images/default_profile_1_normal.png', url=None, name='HolyStupidArtBot', _api=<tweepy.api.API object at 0x00000213A2B137F0>, location='', has_extended_profile=False, profile_sidebar_fill_color='DDEEF6', listed_count=0, is_translation_enabled=False, profile_image_url='http://abs.twimg.com/sticky/default_profile_images/default_profile_1_normal.png', geo_enabled=False, profile_use_background_image=True, profile_background_color='F5F8FA', utc_offset=None, screen_name='HolyStupidArt', verified=False, created_at=datetime.datetime(2016, 11, 12, 0, 3, 1), statuses_count=2, profile_text_color='333333', _json={'friends_count': 1, 'description': '', 'profile_background_image_url': None, 'translator_type': 'none', 'contributors_enabled': False, 'profile_image_url_https': 'https://abs.twimg.com/sticky/default_profile_images/default_profile_1_normal.png', 'url': None, 'name': 'HolyStupidArtBot', 'favourites_count': 0, 'profile_background_color': 'F5F8FA', 'profile_sidebar_fill_color': 'DDEEF6', 'listed_count': 0, 'profile_image_url': 'http://abs.twimg.com/sticky/default_profile_images/default_profile_1_normal.png', 'has_extended_profile': False, 'geo_enabled': False, 'time_zone': None, 'entities': {'description': {'urls': []}}, 'utc_offset': None, 'screen_name': 'HolyStupidArt', 'profile_text_color': '333333', 'is_translator': False, 'statuses_count': 2, 'verified': False, 'following': False, 'profile_link_color': '1DA1F2', 'notifications': False, 'profile_use_background_image': True, 'follow_request_sent': False, 'profile_background_tile': False, 'id_str': '797228167974895616', 'created_at': 'Sat Nov 12 00:03:01 +0000 2016', 'profile_background_image_url_https': None, 'protected': False, 'default_profile': True, 'id': 797228167974895616, 'location': '', 'lang': 'en', 'followers_count': 2, 'profile_sidebar_border_color': 'C0DEED', 'default_profile_image': True, 'is_translation_enabled': False}, following=False, profile_link_color='1DA1F2', entities={'description': {'urls': []}}, follow_request_sent=False, profile_background_tile=False, id_str='797228167974895616', is_translator=False, profile_background_image_url_https=None, protected=False, default_profile=True, id=797228167974895616, time_zone=None, lang='en', notifications=False, followers_count=2, favourites_count=0, default_profile_image=True, profile_sidebar_border_color='C0DEED'), _api=<tweepy.api.API object at 0x00000213A2B137F0>, retweeted=False, in_reply_to_screen_name='salvor7', coordinates=None, in_reply_to_status_id_str=None, entities={'symbols': [], 'urls': [], 'hashtags': [], 'user_mentions': [{'indices': [0, 8], 'name': 'Andrew Brown', 'id': 159166590, 'screen_name': 'salvor7', 'id_str': '159166590'}]}, place=None, id_str='797555192304545792', truncated=False, in_reply_to_user_id=159166590, _json={'in_reply_to_user_id_str': '159166590', 'is_quote_status': False, 'favorite_count': 0, 'retweeted': False, 'in_reply_to_screen_name': 'salvor7', 'coordinates': None, 'in_reply_to_status_id_str': None, 'entities': {'symbols': [], 'urls': [], 'hashtags': [], 'user_mentions': [{'indices': [0, 8], 'name': 'Andrew Brown', 'id': 159166590, 'screen_name': 'salvor7', 'id_str': '159166590'}]}, 'place': None, 'id_str': '797555192304545792', 'geo': None, 'in_reply_to_user_id': 159166590, 'user': {'friends_count': 1, 'description': '', 'profile_background_image_url': None, 'translator_type': 'none', 'contributors_enabled': False, 'profile_image_url_https': 'https://abs.twimg.com/sticky/default_profile_images/default_profile_1_normal.png', 'url': None, 'name': 'HolyStupidArtBot', 'favourites_count': 0, 'profile_background_color': 'F5F8FA', 'profile_sidebar_fill_color': 'DDEEF6', 'listed_count': 0, 'profile_image_url': 'http://abs.twimg.com/sticky/default_profile_images/default_profile_1_normal.png', 'has_extended_profile': False, 'geo_enabled': False, 'time_zone': None, 'entities': {'description': {'urls': []}}, 'utc_offset': None, 'screen_name': 'HolyStupidArt', 'profile_text_color': '333333', 'is_translator': False, 'statuses_count': 2, 'verified': False, 'following': False, 'profile_link_color': '1DA1F2', 'notifications': False, 'profile_use_background_image': True, 'follow_request_sent': False, 'profile_background_tile': False, 'id_str': '797228167974895616', 'created_at': 'Sat Nov 12 00:03:01 +0000 2016', 'profile_background_image_url_https': None, 'protected': False, 'default_profile': True, 'id': 797228167974895616, 'location': '', 'lang': 'en', 'followers_count': 2, 'profile_sidebar_border_color': 'C0DEED', 'default_profile_image': True, 'is_translation_enabled': False}, 'created_at': 'Sat Nov 12 21:42:30 +0000 2016', 'in_reply_to_status_id': None, 'source': '<a href=\"https://github.com/salvor7/DataSciencePortfolio/tree/master/ReligiousPhraseMC\" rel=\"nofollow\">Holy Text Markov Chain</a>', 'truncated': False, 'id': 797555192304545792, 'retweet_count': 0, 'contributors': None, 'lang': 'en', 'text': '@salvor7 Woman, why weepest thou? whom seekest thou? or, Why talkest thou with her? The woman saith unto them, saying, Go and sit down', 'favorited': False}, retweet_count=0, source_url='https://github.com/salvor7/DataSciencePortfolio/tree/master/ReligiousPhraseMC', created_at=datetime.datetime(2016, 11, 12, 21, 42, 30), in_reply_to_status_id=None, source='Holy Text Markov Chain', geo=None, id=797555192304545792, user=User(friends_count=1, description='', profile_background_image_url=None, translator_type='none', contributors_enabled=False, profile_image_url_https='https://abs.twimg.com/sticky/default_profile_images/default_profile_1_normal.png', url=None, name='HolyStupidArtBot', _api=<tweepy.api.API object at 0x00000213A2B137F0>, location='', has_extended_profile=False, profile_sidebar_fill_color='DDEEF6', listed_count=0, is_translation_enabled=False, profile_image_url='http://abs.twimg.com/sticky/default_profile_images/default_profile_1_normal.png', geo_enabled=False, profile_use_background_image=True, profile_background_color='F5F8FA', utc_offset=None, screen_name='HolyStupidArt', verified=False, created_at=datetime.datetime(2016, 11, 12, 0, 3, 1), statuses_count=2, profile_text_color='333333', _json={'friends_count': 1, 'description': '', 'profile_background_image_url': None, 'translator_type': 'none', 'contributors_enabled': False, 'profile_image_url_https': 'https://abs.twimg.com/sticky/default_profile_images/default_profile_1_normal.png', 'url': None, 'name': 'HolyStupidArtBot', 'favourites_count': 0, 'profile_background_color': 'F5F8FA', 'profile_sidebar_fill_color': 'DDEEF6', 'listed_count': 0, 'profile_image_url': 'http://abs.twimg.com/sticky/default_profile_images/default_profile_1_normal.png', 'has_extended_profile': False, 'geo_enabled': False, 'time_zone': None, 'entities': {'description': {'urls': []}}, 'utc_offset': None, 'screen_name': 'HolyStupidArt', 'profile_text_color': '333333', 'is_translator': False, 'statuses_count': 2, 'verified': False, 'following': False, 'profile_link_color': '1DA1F2', 'notifications': False, 'profile_use_background_image': True, 'follow_request_sent': False, 'profile_background_tile': False, 'id_str': '797228167974895616', 'created_at': 'Sat Nov 12 00:03:01 +0000 2016', 'profile_background_image_url_https': None, 'protected': False, 'default_profile': True, 'id': 797228167974895616, 'location': '', 'lang': 'en', 'followers_count': 2, 'profile_sidebar_border_color': 'C0DEED', 'default_profile_image': True, 'is_translation_enabled': False}, following=False, profile_link_color='1DA1F2', entities={'description': {'urls': []}}, follow_request_sent=False, profile_background_tile=False, id_str='797228167974895616', is_translator=False, profile_background_image_url_https=None, protected=False, default_profile=True, id=797228167974895616, time_zone=None, lang='en', notifications=False, followers_count=2, favourites_count=0, default_profile_image=True, profile_sidebar_border_color='C0DEED'), contributors=None, lang='en', text='@salvor7 Woman, why weepest thou? whom seekest thou? or, Why talkest thou with her? The woman saith unto them, saying, Go and sit down', favorited=False)"
      ]
     },
     "execution_count": 93,
     "metadata": {},
     "output_type": "execute_result"
    }
   ],
   "source": [
    "api.update_status('@salvor7 Woman, why weepest thou? whom seekest thou? or, Why talkest thou with her? The woman saith unto them, saying, Go and sit down')"
   ]
  },
  {
   "cell_type": "code",
   "execution_count": 40,
   "metadata": {
    "collapsed": false
   },
   "outputs": [],
   "source": [
    "user = api.followers_ids()"
   ]
  },
  {
   "cell_type": "code",
   "execution_count": 42,
   "metadata": {
    "collapsed": false
   },
   "outputs": [
    {
     "data": {
      "text/plain": [
       "[159166590]"
      ]
     },
     "execution_count": 42,
     "metadata": {},
     "output_type": "execute_result"
    }
   ],
   "source": [
    "user"
   ]
  },
  {
   "cell_type": "code",
   "execution_count": 50,
   "metadata": {
    "collapsed": false
   },
   "outputs": [
    {
     "data": {
      "text/plain": [
       "[]"
      ]
     },
     "execution_count": 50,
     "metadata": {},
     "output_type": "execute_result"
    }
   ],
   "source": [
    "api.direct_messages()"
   ]
  },
  {
   "cell_type": "code",
   "execution_count": 30,
   "metadata": {
    "collapsed": false
   },
   "outputs": [],
   "source": [
    "dm = api.sent_direct_messages()"
   ]
  },
  {
   "cell_type": "code",
   "execution_count": 45,
   "metadata": {
    "collapsed": true
   },
   "outputs": [],
   "source": [
    "import time"
   ]
  },
  {
   "cell_type": "code",
   "execution_count": 47,
   "metadata": {
    "collapsed": false
   },
   "outputs": [
    {
     "name": "stdout",
     "output_type": "stream",
     "text": [
      "DM sent to new follower\n"
     ]
    },
    {
     "ename": "KeyboardInterrupt",
     "evalue": "",
     "output_type": "error",
     "traceback": [
      "\u001b[0;31m---------------------------------------------------------------------------\u001b[0m",
      "\u001b[0;31mKeyboardInterrupt\u001b[0m                         Traceback (most recent call last)",
      "\u001b[0;32m<ipython-input-47-d2fda8568df4>\u001b[0m in \u001b[0;36m<module>\u001b[0;34m()\u001b[0m\n\u001b[1;32m      2\u001b[0m \u001b[1;33m\u001b[0m\u001b[0m\n\u001b[1;32m      3\u001b[0m \u001b[1;32mwhile\u001b[0m \u001b[1;32mTrue\u001b[0m\u001b[1;33m:\u001b[0m\u001b[1;33m\u001b[0m\u001b[0m\n\u001b[0;32m----> 4\u001b[0;31m     \u001b[0mtime\u001b[0m\u001b[1;33m.\u001b[0m\u001b[0msleep\u001b[0m\u001b[1;33m(\u001b[0m\u001b[1;36m15\u001b[0m\u001b[1;33m)\u001b[0m\u001b[1;33m\u001b[0m\u001b[0m\n\u001b[0m\u001b[1;32m      5\u001b[0m     \u001b[0mcurrent_followers\u001b[0m \u001b[1;33m=\u001b[0m \u001b[0mset\u001b[0m\u001b[1;33m(\u001b[0m\u001b[0mapi\u001b[0m\u001b[1;33m.\u001b[0m\u001b[0mfollowers_ids\u001b[0m\u001b[1;33m(\u001b[0m\u001b[1;33m)\u001b[0m\u001b[1;33m)\u001b[0m\u001b[1;33m\u001b[0m\u001b[0m\n\u001b[1;32m      6\u001b[0m     \u001b[1;32mif\u001b[0m \u001b[0mcurrent_followers\u001b[0m \u001b[1;33m!=\u001b[0m \u001b[0mfollowers\u001b[0m\u001b[1;33m:\u001b[0m\u001b[1;33m\u001b[0m\u001b[0m\n",
      "\u001b[0;31mKeyboardInterrupt\u001b[0m: "
     ]
    }
   ],
   "source": [
    "followers = set(api.followers_ids())\n",
    "\n",
    "while True:\n",
    "    time.sleep(15)\n",
    "    current_followers = set(api.followers_ids())\n",
    "    if current_followers != followers:\n",
    "        for user_id in current_followers - followers:\n",
    "            api.send_direct_message(user_id=user_id, text='Hi new follower')\n",
    "            print('DM sent to new follower')\n",
    "        followers = current_followers"
   ]
  },
  {
   "cell_type": "markdown",
   "metadata": {},
   "source": [
    "Below is from the answer here: http://stackoverflow.com/questions/39237420/how-to-thread-a-tweepy-stream"
   ]
  },
  {
   "cell_type": "code",
   "execution_count": 57,
   "metadata": {
    "collapsed": false
   },
   "outputs": [
    {
     "name": "stdout",
     "output_type": "stream",
     "text": [
      "10"
     ]
    }
   ],
   "source": [
    "\n",
    "import threading\n",
    "import time\n",
    "from sys import stdout\n",
    "\n",
    "# Only data wihtin a class are actually shared by the threads\n",
    "class Counter(object):\n",
    "    counter = 0\n",
    "    stop = False\n",
    "\n",
    "# Function that will be executed in parallel with the rest of the code\n",
    "def function_1():\n",
    "    for i in range(10):\n",
    "        if c.stop: return # With more will exit faster\n",
    "        time.sleep(2)\n",
    "        c.counter += 1\n",
    "        if c.stop: return\n",
    "\n",
    "# Create a class instance\n",
    "c = Counter()\n",
    "\n",
    "# Thread function_1\n",
    "d = threading.Thread(target=function_1)\n",
    "d.start()\n",
    "\n",
    "# Exit the thread properly before exiting...\n",
    "try:\n",
    "    for j in range(100):\n",
    "        stdout.write('\\r{:}'.format(c.counter))\n",
    "        stdout.flush()\n",
    "        time.sleep(1)\n",
    "except:\n",
    "    c.stop = True"
   ]
  },
  {
   "cell_type": "markdown",
   "metadata": {},
   "source": [
    "Not sure how to make this work for my example right off. I'll check another solution first."
   ]
  },
  {
   "cell_type": "markdown",
   "metadata": {},
   "source": [
    "This one is from http://stackoverflow.com/questions/31116213/streaming-twitter-direct-messages\n",
    "It works great. The direct messages are going in and out on_data, not on_direct_message; not sure what that is about. "
   ]
  },
  {
   "cell_type": "code",
   "execution_count": null,
   "metadata": {
    "collapsed": true
   },
   "outputs": [],
   "source": [
    "from tweepy import Stream\n",
    "from tweepy import OAuthHandler\n",
    "from tweepy import API\n",
    "\n",
    "from tweepy.streaming import StreamListener\n",
    "\n",
    "\n",
    "class StdOutListener( StreamListener ):\n",
    "\n",
    "    def __init__( self ):\n",
    "        self.tweetCount = 0\n",
    "\n",
    "    def on_connect( self ):\n",
    "        print(\"Connection established!!\")\n",
    "\n",
    "    def on_disconnect( self, notice ):\n",
    "        print(\"Connection lost!! : \", notice)\n",
    "\n",
    "    def on_direct_message( self, status ):\n",
    "        print(\"Entered on_direct_message()\")\n",
    "        try:\n",
    "            print(status, flush = True)\n",
    "            return True\n",
    "        except BaseException as e:\n",
    "            print(\"Failed on_direct_message()\", str(e))\n",
    "\n",
    "    def on_error( self, status ):\n",
    "        print(status)\n",
    "\n",
    "def main():\n",
    "\n",
    "    try:\n",
    "        auth = tweepy.OAuthHandler(at['CONSUMER_KEY'], at['CONSUMER_SECRET'])\n",
    "        auth.secure = True\n",
    "        auth.set_access_token(at['ACCESS_KEY'], at['ACCESS_SECRET'])\n",
    "\n",
    "        api = API(auth)\n",
    "\n",
    "        # If the authentication was successful, you should\n",
    "        # see the name of the account print out\n",
    "        print(api.me().name)\n",
    "\n",
    "        stream = Stream(auth, StdOutListener())\n",
    "\n",
    "        stream.userstream()\n",
    "\n",
    "    except BaseException as e:\n",
    "        print(\"Error in main()\", e)"
   ]
  },
  {
   "cell_type": "code",
   "execution_count": 59,
   "metadata": {
    "collapsed": false
   },
   "outputs": [
    {
     "name": "stdout",
     "output_type": "stream",
     "text": [
      "HolyStupidArtBot\n",
      "Connection established!!\n",
      "Entered on_data()\n",
      "{\"friends\":[159166590]}\n",
      "\n",
      "\n",
      "Entered on_data()\n",
      "{\"direct_message\":{\"id\":797525619047211016,\"id_str\":\"797525619047211016\",\"text\":\"Hi bot\",\"sender\":{\"id\":159166590,\"id_str\":\"159166590\",\"name\":\"Andrew Brown\",\"screen_name\":\"salvor7\",\"location\":\"vancouver\",\"url\":null,\"description\":\"Today, who knows\",\"protected\":false,\"followers_count\":111,\"friends_count\":170,\"listed_count\":1,\"created_at\":\"Thu Jun 24 17:02:23 +0000 2010\",\"favourites_count\":19,\"utc_offset\":-21600,\"time_zone\":\"Central Time (US & Canada)\",\"geo_enabled\":true,\"verified\":false,\"statuses_count\":215,\"lang\":\"en\",\"contributors_enabled\":false,\"is_translator\":false,\"is_translation_enabled\":false,\"profile_background_color\":\"C0DEED\",\"profile_background_image_url\":\"http:\\/\\/abs.twimg.com\\/images\\/themes\\/theme1\\/bg.png\",\"profile_background_image_url_https\":\"https:\\/\\/abs.twimg.com\\/images\\/themes\\/theme1\\/bg.png\",\"profile_background_tile\":false,\"profile_image_url\":\"http:\\/\\/pbs.twimg.com\\/profile_images\\/731256308909772800\\/uHAlRwB-_normal.jpg\",\"profile_image_url_https\":\"https:\\/\\/pbs.twimg.com\\/profile_images\\/731256308909772800\\/uHAlRwB-_normal.jpg\",\"profile_link_color\":\"1DA1F2\",\"profile_sidebar_border_color\":\"C0DEED\",\"profile_sidebar_fill_color\":\"DDEEF6\",\"profile_text_color\":\"333333\",\"profile_use_background_image\":true,\"default_profile\":true,\"default_profile_image\":false,\"following\":false,\"follow_request_sent\":false,\"notifications\":false,\"translator_type\":\"none\"},\"sender_id\":159166590,\"sender_id_str\":\"159166590\",\"sender_screen_name\":\"salvor7\",\"recipient\":{\"id\":797228167974895616,\"id_str\":\"797228167974895616\",\"name\":\"HolyStupidArtBot\",\"screen_name\":\"HolyStupidArt\",\"location\":null,\"url\":null,\"description\":null,\"protected\":false,\"followers_count\":1,\"friends_count\":1,\"listed_count\":0,\"created_at\":\"Sat Nov 12 00:03:01 +0000 2016\",\"favourites_count\":0,\"utc_offset\":null,\"time_zone\":null,\"geo_enabled\":false,\"verified\":false,\"statuses_count\":1,\"lang\":\"en\",\"contributors_enabled\":false,\"is_translator\":false,\"is_translation_enabled\":false,\"profile_background_color\":\"F5F8FA\",\"profile_background_image_url\":null,\"profile_background_image_url_https\":null,\"profile_background_tile\":false,\"profile_image_url\":\"http:\\/\\/abs.twimg.com\\/sticky\\/default_profile_images\\/default_profile_1_normal.png\",\"profile_image_url_https\":\"https:\\/\\/abs.twimg.com\\/sticky\\/default_profile_images\\/default_profile_1_normal.png\",\"profile_link_color\":\"1DA1F2\",\"profile_sidebar_border_color\":\"C0DEED\",\"profile_sidebar_fill_color\":\"DDEEF6\",\"profile_text_color\":\"333333\",\"profile_use_background_image\":true,\"default_profile\":true,\"default_profile_image\":true,\"following\":false,\"follow_request_sent\":false,\"notifications\":false,\"translator_type\":\"none\"},\"recipient_id\":797228167974895616,\"recipient_id_str\":\"797228167974895616\",\"recipient_screen_name\":\"HolyStupidArt\",\"created_at\":\"Sat Nov 12 19:44:59 +0000 2016\",\"entities\":{\"hashtags\":[],\"symbols\":[],\"user_mentions\":[],\"urls\":[]}}}\n",
      "\n",
      "Entered on_data()\n",
      "{\"direct_message\":{\"id\":797525813570568196,\"id_str\":\"797525813570568196\",\"text\":\"test\",\"sender\":{\"id\":797228167974895616,\"id_str\":\"797228167974895616\",\"name\":\"HolyStupidArtBot\",\"screen_name\":\"HolyStupidArt\",\"location\":null,\"url\":null,\"description\":null,\"protected\":false,\"followers_count\":1,\"friends_count\":1,\"listed_count\":0,\"created_at\":\"Sat Nov 12 00:03:01 +0000 2016\",\"favourites_count\":0,\"utc_offset\":null,\"time_zone\":null,\"geo_enabled\":false,\"verified\":false,\"statuses_count\":1,\"lang\":\"en\",\"contributors_enabled\":false,\"is_translator\":false,\"is_translation_enabled\":false,\"profile_background_color\":\"F5F8FA\",\"profile_background_image_url\":null,\"profile_background_image_url_https\":null,\"profile_background_tile\":false,\"profile_image_url\":\"http:\\/\\/abs.twimg.com\\/sticky\\/default_profile_images\\/default_profile_1_normal.png\",\"profile_image_url_https\":\"https:\\/\\/abs.twimg.com\\/sticky\\/default_profile_images\\/default_profile_1_normal.png\",\"profile_link_color\":\"1DA1F2\",\"profile_sidebar_border_color\":\"C0DEED\",\"profile_sidebar_fill_color\":\"DDEEF6\",\"profile_text_color\":\"333333\",\"profile_use_background_image\":true,\"default_profile\":true,\"default_profile_image\":true,\"following\":false,\"follow_request_sent\":false,\"notifications\":false,\"translator_type\":\"none\"},\"sender_id\":797228167974895616,\"sender_id_str\":\"797228167974895616\",\"sender_screen_name\":\"HolyStupidArt\",\"recipient\":{\"id\":159166590,\"id_str\":\"159166590\",\"name\":\"Andrew Brown\",\"screen_name\":\"salvor7\",\"location\":\"vancouver\",\"url\":null,\"description\":\"Today, who knows\",\"protected\":false,\"followers_count\":111,\"friends_count\":170,\"listed_count\":1,\"created_at\":\"Thu Jun 24 17:02:23 +0000 2010\",\"favourites_count\":19,\"utc_offset\":-21600,\"time_zone\":\"Central Time (US & Canada)\",\"geo_enabled\":true,\"verified\":false,\"statuses_count\":215,\"lang\":\"en\",\"contributors_enabled\":false,\"is_translator\":false,\"is_translation_enabled\":false,\"profile_background_color\":\"C0DEED\",\"profile_background_image_url\":\"http:\\/\\/abs.twimg.com\\/images\\/themes\\/theme1\\/bg.png\",\"profile_background_image_url_https\":\"https:\\/\\/abs.twimg.com\\/images\\/themes\\/theme1\\/bg.png\",\"profile_background_tile\":false,\"profile_image_url\":\"http:\\/\\/pbs.twimg.com\\/profile_images\\/731256308909772800\\/uHAlRwB-_normal.jpg\",\"profile_image_url_https\":\"https:\\/\\/pbs.twimg.com\\/profile_images\\/731256308909772800\\/uHAlRwB-_normal.jpg\",\"profile_link_color\":\"1DA1F2\",\"profile_sidebar_border_color\":\"C0DEED\",\"profile_sidebar_fill_color\":\"DDEEF6\",\"profile_text_color\":\"333333\",\"profile_use_background_image\":true,\"default_profile\":true,\"default_profile_image\":false,\"following\":false,\"follow_request_sent\":false,\"notifications\":false,\"translator_type\":\"none\"},\"recipient_id\":159166590,\"recipient_id_str\":\"159166590\",\"recipient_screen_name\":\"salvor7\",\"created_at\":\"Sat Nov 12 19:45:45 +0000 2016\",\"entities\":{\"hashtags\":[],\"symbols\":[],\"user_mentions\":[],\"urls\":[]}}}\n",
      "\n",
      "Error in main() \n"
     ]
    }
   ],
   "source": [
    "main()"
   ]
  },
  {
   "cell_type": "code",
   "execution_count": 79,
   "metadata": {
    "collapsed": true
   },
   "outputs": [],
   "source": [
    "import json\n",
    "from pprint import pprint"
   ]
  },
  {
   "cell_type": "code",
   "execution_count": 61,
   "metadata": {
    "collapsed": true
   },
   "outputs": [],
   "source": [
    "s = '{\"direct_message\":{\"id\":797525813570568196,\"id_str\":\"797525813570568196\",\"text\":\"test\",\"sender\":{\"id\":797228167974895616,\"id_str\":\"797228167974895616\",\"name\":\"HolyStupidArtBot\",\"screen_name\":\"HolyStupidArt\",\"location\":null,\"url\":null,\"description\":null,\"protected\":false,\"followers_count\":1,\"friends_count\":1,\"listed_count\":0,\"created_at\":\"Sat Nov 12 00:03:01 +0000 2016\",\"favourites_count\":0,\"utc_offset\":null,\"time_zone\":null,\"geo_enabled\":false,\"verified\":false,\"statuses_count\":1,\"lang\":\"en\",\"contributors_enabled\":false,\"is_translator\":false,\"is_translation_enabled\":false,\"profile_background_color\":\"F5F8FA\",\"profile_background_image_url\":null,\"profile_background_image_url_https\":null,\"profile_background_tile\":false,\"profile_image_url\":\"http:\\/\\/abs.twimg.com\\/sticky\\/default_profile_images\\/default_profile_1_normal.png\",\"profile_image_url_https\":\"https:\\/\\/abs.twimg.com\\/sticky\\/default_profile_images\\/default_profile_1_normal.png\",\"profile_link_color\":\"1DA1F2\",\"profile_sidebar_border_color\":\"C0DEED\",\"profile_sidebar_fill_color\":\"DDEEF6\",\"profile_text_color\":\"333333\",\"profile_use_background_image\":true,\"default_profile\":true,\"default_profile_image\":true,\"following\":false,\"follow_request_sent\":false,\"notifications\":false,\"translator_type\":\"none\"},\"sender_id\":797228167974895616,\"sender_id_str\":\"797228167974895616\",\"sender_screen_name\":\"HolyStupidArt\",\"recipient\":{\"id\":159166590,\"id_str\":\"159166590\",\"name\":\"Andrew Brown\",\"screen_name\":\"salvor7\",\"location\":\"vancouver\",\"url\":null,\"description\":\"Today, who knows\",\"protected\":false,\"followers_count\":111,\"friends_count\":170,\"listed_count\":1,\"created_at\":\"Thu Jun 24 17:02:23 +0000 2010\",\"favourites_count\":19,\"utc_offset\":-21600,\"time_zone\":\"Central Time (US & Canada)\",\"geo_enabled\":true,\"verified\":false,\"statuses_count\":215,\"lang\":\"en\",\"contributors_enabled\":false,\"is_translator\":false,\"is_translation_enabled\":false,\"profile_background_color\":\"C0DEED\",\"profile_background_image_url\":\"http:\\/\\/abs.twimg.com\\/images\\/themes\\/theme1\\/bg.png\",\"profile_background_image_url_https\":\"https:\\/\\/abs.twimg.com\\/images\\/themes\\/theme1\\/bg.png\",\"profile_background_tile\":false,\"profile_image_url\":\"http:\\/\\/pbs.twimg.com\\/profile_images\\/731256308909772800\\/uHAlRwB-_normal.jpg\",\"profile_image_url_https\":\"https:\\/\\/pbs.twimg.com\\/profile_images\\/731256308909772800\\/uHAlRwB-_normal.jpg\",\"profile_link_color\":\"1DA1F2\",\"profile_sidebar_border_color\":\"C0DEED\",\"profile_sidebar_fill_color\":\"DDEEF6\",\"profile_text_color\":\"333333\",\"profile_use_background_image\":true,\"default_profile\":true,\"default_profile_image\":false,\"following\":false,\"follow_request_sent\":false,\"notifications\":false,\"translator_type\":\"none\"},\"recipient_id\":159166590,\"recipient_id_str\":\"159166590\",\"recipient_screen_name\":\"salvor7\",\"created_at\":\"Sat Nov 12 19:45:45 +0000 2016\",\"entities\":{\"hashtags\":[],\"symbols\":[],\"user_mentions\":[],\"urls\":[]}}}'"
   ]
  },
  {
   "cell_type": "code",
   "execution_count": 70,
   "metadata": {
    "collapsed": false
   },
   "outputs": [],
   "source": [
    "json_obj = json.loads(s)"
   ]
  },
  {
   "cell_type": "code",
   "execution_count": 80,
   "metadata": {
    "collapsed": false
   },
   "outputs": [
    {
     "name": "stdout",
     "output_type": "stream",
     "text": [
      "{'direct_message': {'created_at': 'Sat Nov 12 19:45:45 +0000 2016',\n",
      "                    'entities': {'hashtags': [],\n",
      "                                 'symbols': [],\n",
      "                                 'urls': [],\n",
      "                                 'user_mentions': []},\n",
      "                    'id': 797525813570568196,\n",
      "                    'id_str': '797525813570568196',\n",
      "                    'recipient': {'contributors_enabled': False,\n",
      "                                  'created_at': 'Thu Jun 24 17:02:23 +0000 '\n",
      "                                                '2010',\n",
      "                                  'default_profile': True,\n",
      "                                  'default_profile_image': False,\n",
      "                                  'description': 'Today, who knows',\n",
      "                                  'favourites_count': 19,\n",
      "                                  'follow_request_sent': False,\n",
      "                                  'followers_count': 111,\n",
      "                                  'following': False,\n",
      "                                  'friends_count': 170,\n",
      "                                  'geo_enabled': True,\n",
      "                                  'id': 159166590,\n",
      "                                  'id_str': '159166590',\n",
      "                                  'is_translation_enabled': False,\n",
      "                                  'is_translator': False,\n",
      "                                  'lang': 'en',\n",
      "                                  'listed_count': 1,\n",
      "                                  'location': 'vancouver',\n",
      "                                  'name': 'Andrew Brown',\n",
      "                                  'notifications': False,\n",
      "                                  'profile_background_color': 'C0DEED',\n",
      "                                  'profile_background_image_url': 'http://abs.twimg.com/images/themes/theme1/bg.png',\n",
      "                                  'profile_background_image_url_https': 'https://abs.twimg.com/images/themes/theme1/bg.png',\n",
      "                                  'profile_background_tile': False,\n",
      "                                  'profile_image_url': 'http://pbs.twimg.com/profile_images/731256308909772800/uHAlRwB-_normal.jpg',\n",
      "                                  'profile_image_url_https': 'https://pbs.twimg.com/profile_images/731256308909772800/uHAlRwB-_normal.jpg',\n",
      "                                  'profile_link_color': '1DA1F2',\n",
      "                                  'profile_sidebar_border_color': 'C0DEED',\n",
      "                                  'profile_sidebar_fill_color': 'DDEEF6',\n",
      "                                  'profile_text_color': '333333',\n",
      "                                  'profile_use_background_image': True,\n",
      "                                  'protected': False,\n",
      "                                  'screen_name': 'salvor7',\n",
      "                                  'statuses_count': 215,\n",
      "                                  'time_zone': 'Central Time (US & Canada)',\n",
      "                                  'translator_type': 'none',\n",
      "                                  'url': None,\n",
      "                                  'utc_offset': -21600,\n",
      "                                  'verified': False},\n",
      "                    'recipient_id': 159166590,\n",
      "                    'recipient_id_str': '159166590',\n",
      "                    'recipient_screen_name': 'salvor7',\n",
      "                    'sender': {'contributors_enabled': False,\n",
      "                               'created_at': 'Sat Nov 12 00:03:01 +0000 2016',\n",
      "                               'default_profile': True,\n",
      "                               'default_profile_image': True,\n",
      "                               'description': None,\n",
      "                               'favourites_count': 0,\n",
      "                               'follow_request_sent': False,\n",
      "                               'followers_count': 1,\n",
      "                               'following': False,\n",
      "                               'friends_count': 1,\n",
      "                               'geo_enabled': False,\n",
      "                               'id': 797228167974895616,\n",
      "                               'id_str': '797228167974895616',\n",
      "                               'is_translation_enabled': False,\n",
      "                               'is_translator': False,\n",
      "                               'lang': 'en',\n",
      "                               'listed_count': 0,\n",
      "                               'location': None,\n",
      "                               'name': 'HolyStupidArtBot',\n",
      "                               'notifications': False,\n",
      "                               'profile_background_color': 'F5F8FA',\n",
      "                               'profile_background_image_url': None,\n",
      "                               'profile_background_image_url_https': None,\n",
      "                               'profile_background_tile': False,\n",
      "                               'profile_image_url': 'http://abs.twimg.com/sticky/default_profile_images/default_profile_1_normal.png',\n",
      "                               'profile_image_url_https': 'https://abs.twimg.com/sticky/default_profile_images/default_profile_1_normal.png',\n",
      "                               'profile_link_color': '1DA1F2',\n",
      "                               'profile_sidebar_border_color': 'C0DEED',\n",
      "                               'profile_sidebar_fill_color': 'DDEEF6',\n",
      "                               'profile_text_color': '333333',\n",
      "                               'profile_use_background_image': True,\n",
      "                               'protected': False,\n",
      "                               'screen_name': 'HolyStupidArt',\n",
      "                               'statuses_count': 1,\n",
      "                               'time_zone': None,\n",
      "                               'translator_type': 'none',\n",
      "                               'url': None,\n",
      "                               'utc_offset': None,\n",
      "                               'verified': False},\n",
      "                    'sender_id': 797228167974895616,\n",
      "                    'sender_id_str': '797228167974895616',\n",
      "                    'sender_screen_name': 'HolyStupidArt',\n",
      "                    'text': 'test'}}\n"
     ]
    }
   ],
   "source": [
    "pprint(json_obj)"
   ]
  },
  {
   "cell_type": "code",
   "execution_count": 86,
   "metadata": {
    "collapsed": false
   },
   "outputs": [
    {
     "data": {
      "text/plain": [
       "('HolyStupidArtBot', 797228167974895616, 'test')"
      ]
     },
     "execution_count": 86,
     "metadata": {},
     "output_type": "execute_result"
    }
   ],
   "source": [
    "json_obj['direct_message']['sender']['name'], json_obj['direct_message']['sender']['id'], json_obj['direct_message']['text']"
   ]
  },
  {
   "cell_type": "code",
   "execution_count": 85,
   "metadata": {
    "collapsed": false
   },
   "outputs": [
    {
     "data": {
      "text/plain": [
       "dict_keys(['direct_message'])"
      ]
     },
     "execution_count": 85,
     "metadata": {},
     "output_type": "execute_result"
    }
   ],
   "source": [
    "json_obj.keys()"
   ]
  },
  {
   "cell_type": "code",
   "execution_count": 94,
   "metadata": {
    "collapsed": true
   },
   "outputs": [],
   "source": [
    "from tweepy.models import Status"
   ]
  },
  {
   "cell_type": "code",
   "execution_count": 95,
   "metadata": {
    "collapsed": true
   },
   "outputs": [],
   "source": [
    "status = Status.parse(api=api, json=json_obj)"
   ]
  },
  {
   "cell_type": "code",
   "execution_count": 101,
   "metadata": {
    "collapsed": false
   },
   "outputs": [],
   "source": [
    "dm = status._json['direct_message']"
   ]
  },
  {
   "cell_type": "code",
   "execution_count": 102,
   "metadata": {
    "collapsed": false
   },
   "outputs": [
    {
     "data": {
      "text/plain": [
       "{'created_at': 'Sat Nov 12 19:45:45 +0000 2016',\n",
       " 'entities': {'hashtags': [], 'symbols': [], 'urls': [], 'user_mentions': []},\n",
       " 'id': 797525813570568196,\n",
       " 'id_str': '797525813570568196',\n",
       " 'recipient': {'contributors_enabled': False,\n",
       "  'created_at': 'Thu Jun 24 17:02:23 +0000 2010',\n",
       "  'default_profile': True,\n",
       "  'default_profile_image': False,\n",
       "  'description': 'Today, who knows',\n",
       "  'favourites_count': 19,\n",
       "  'follow_request_sent': False,\n",
       "  'followers_count': 111,\n",
       "  'following': False,\n",
       "  'friends_count': 170,\n",
       "  'geo_enabled': True,\n",
       "  'id': 159166590,\n",
       "  'id_str': '159166590',\n",
       "  'is_translation_enabled': False,\n",
       "  'is_translator': False,\n",
       "  'lang': 'en',\n",
       "  'listed_count': 1,\n",
       "  'location': 'vancouver',\n",
       "  'name': 'Andrew Brown',\n",
       "  'notifications': False,\n",
       "  'profile_background_color': 'C0DEED',\n",
       "  'profile_background_image_url': 'http://abs.twimg.com/images/themes/theme1/bg.png',\n",
       "  'profile_background_image_url_https': 'https://abs.twimg.com/images/themes/theme1/bg.png',\n",
       "  'profile_background_tile': False,\n",
       "  'profile_image_url': 'http://pbs.twimg.com/profile_images/731256308909772800/uHAlRwB-_normal.jpg',\n",
       "  'profile_image_url_https': 'https://pbs.twimg.com/profile_images/731256308909772800/uHAlRwB-_normal.jpg',\n",
       "  'profile_link_color': '1DA1F2',\n",
       "  'profile_sidebar_border_color': 'C0DEED',\n",
       "  'profile_sidebar_fill_color': 'DDEEF6',\n",
       "  'profile_text_color': '333333',\n",
       "  'profile_use_background_image': True,\n",
       "  'protected': False,\n",
       "  'screen_name': 'salvor7',\n",
       "  'statuses_count': 215,\n",
       "  'time_zone': 'Central Time (US & Canada)',\n",
       "  'translator_type': 'none',\n",
       "  'url': None,\n",
       "  'utc_offset': -21600,\n",
       "  'verified': False},\n",
       " 'recipient_id': 159166590,\n",
       " 'recipient_id_str': '159166590',\n",
       " 'recipient_screen_name': 'salvor7',\n",
       " 'sender': {'contributors_enabled': False,\n",
       "  'created_at': 'Sat Nov 12 00:03:01 +0000 2016',\n",
       "  'default_profile': True,\n",
       "  'default_profile_image': True,\n",
       "  'description': None,\n",
       "  'favourites_count': 0,\n",
       "  'follow_request_sent': False,\n",
       "  'followers_count': 1,\n",
       "  'following': False,\n",
       "  'friends_count': 1,\n",
       "  'geo_enabled': False,\n",
       "  'id': 797228167974895616,\n",
       "  'id_str': '797228167974895616',\n",
       "  'is_translation_enabled': False,\n",
       "  'is_translator': False,\n",
       "  'lang': 'en',\n",
       "  'listed_count': 0,\n",
       "  'location': None,\n",
       "  'name': 'HolyStupidArtBot',\n",
       "  'notifications': False,\n",
       "  'profile_background_color': 'F5F8FA',\n",
       "  'profile_background_image_url': None,\n",
       "  'profile_background_image_url_https': None,\n",
       "  'profile_background_tile': False,\n",
       "  'profile_image_url': 'http://abs.twimg.com/sticky/default_profile_images/default_profile_1_normal.png',\n",
       "  'profile_image_url_https': 'https://abs.twimg.com/sticky/default_profile_images/default_profile_1_normal.png',\n",
       "  'profile_link_color': '1DA1F2',\n",
       "  'profile_sidebar_border_color': 'C0DEED',\n",
       "  'profile_sidebar_fill_color': 'DDEEF6',\n",
       "  'profile_text_color': '333333',\n",
       "  'profile_use_background_image': True,\n",
       "  'protected': False,\n",
       "  'screen_name': 'HolyStupidArt',\n",
       "  'statuses_count': 1,\n",
       "  'time_zone': None,\n",
       "  'translator_type': 'none',\n",
       "  'url': None,\n",
       "  'utc_offset': None,\n",
       "  'verified': False},\n",
       " 'sender_id': 797228167974895616,\n",
       " 'sender_id_str': '797228167974895616',\n",
       " 'sender_screen_name': 'HolyStupidArt',\n",
       " 'text': 'test'}"
      ]
     },
     "execution_count": 102,
     "metadata": {},
     "output_type": "execute_result"
    }
   ],
   "source": []
  },
  {
   "cell_type": "code",
   "execution_count": null,
   "metadata": {
    "collapsed": true
   },
   "outputs": [],
   "source": []
  }
 ],
 "metadata": {
  "anaconda-cloud": {},
  "kernelspec": {
   "display_name": "Python [conda root]",
   "language": "python",
   "name": "conda-root-py"
  },
  "language_info": {
   "codemirror_mode": {
    "name": "ipython",
    "version": 3
   },
   "file_extension": ".py",
   "mimetype": "text/x-python",
   "name": "python",
   "nbconvert_exporter": "python",
   "pygments_lexer": "ipython3",
   "version": "3.5.2"
  }
 },
 "nbformat": 4,
 "nbformat_minor": 1
}
